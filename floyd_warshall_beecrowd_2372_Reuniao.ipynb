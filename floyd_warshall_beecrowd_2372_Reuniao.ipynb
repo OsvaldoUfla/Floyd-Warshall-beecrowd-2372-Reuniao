{
  "nbformat": 4,
  "nbformat_minor": 0,
  "metadata": {
    "colab": {
      "provenance": [],
      "authorship_tag": "ABX9TyNhX8VHfv5/1BxtCRYoBURh",
      "include_colab_link": true
    },
    "kernelspec": {
      "name": "python3",
      "display_name": "Python 3"
    },
    "language_info": {
      "name": "python"
    }
  },
  "cells": [
    {
      "cell_type": "markdown",
      "metadata": {
        "id": "view-in-github",
        "colab_type": "text"
      },
      "source": [
        "<a href=\"https://colab.research.google.com/github/OsvaldoUfla/Floyd-Warshall-beecrowd-2372-Reuniao/blob/main/floyd_warshall_beecrowd_2372_Reuniao.ipynb\" target=\"_parent\"><img src=\"https://colab.research.google.com/assets/colab-badge.svg\" alt=\"Open In Colab\"/></a>"
      ]
    },
    {
      "cell_type": "code",
      "execution_count": null,
      "metadata": {
        "id": "WXmBT916MNz1"
      },
      "outputs": [],
      "source": [
        "%%writefile floyd_warshall.cpp\n",
        "#include<iostream>\n",
        "#include<vector>\n",
        "#include<utility>\n",
        "#include<functional>\n",
        "using namespace std;\n",
        "\n",
        "#define INF 1000000000\n",
        "\n",
        "/*\n",
        " * Variaveis globais\n",
        " */\n",
        "\n",
        "// matriz de adjacencia\n",
        "int** MA;\n",
        "\n",
        "// quantidade de vertices\n",
        "int n;\n",
        "\n",
        "// quantidade de arestas\n",
        "int m;\n",
        "\n",
        "// quantidade de pares origem-destino a ser calculado\n",
        "int k;\n",
        "\n",
        "void floyd_warshall()\n",
        "{\n",
        "    for(int k = 0; k < n; k++)\n",
        "      for(int i = 0; i < n; i++)\n",
        "        for(int j = 0; j < n; j++)\n",
        "          /*\n",
        "           * Adaptacao: originalmente, o calculo eh MA[i][j] = min(MA[i][j], MA[i][k] + MA[k][j]);\n",
        "           */\n",
        "          MA[i][j] = min(MA[i][j], max(MA[i][k], MA[k][j]));\n",
        "}\n",
        "\n",
        "int main()\n",
        "{\n",
        "    int instancia = 1;\n",
        "    cin >> n >> m;\n",
        "    while(n != 0 && m != 0)\n",
        "    {     \n",
        "        MA = new int*[n];\n",
        "        int u, v, h;\n",
        "     \n",
        "        for(int i = 0; i < n; i++)\n",
        "        {\n",
        "            MA[i] = new int[n];\n",
        "            for(int j = 0; j < n; j++)\n",
        "                MA[i][j] = INF;\n",
        "        }\n",
        "\n",
        "        for(int i = 0; i < m; i++)\n",
        "        {\n",
        "            cin >> u >> v >> h;\n",
        "            u--;\n",
        "            v--;\n",
        "            MA[u][v] = MA[v][u] = h;\n",
        "        }\n",
        "     \n",
        "        floyd_warshall();\n",
        "     \n",
        "        int org, dst, k;\n",
        "        cin >> k;\n",
        "        cout << \"Instancia \" << instancia << endl;\n",
        "        for(int i = 0; i < k; i++)\n",
        "        {\n",
        "            cin >> org >> dst;\n",
        "            org--;\n",
        "            dst--;\n",
        "            if(org != dst)\n",
        "              cout << MA[org][dst] << endl;\n",
        "         \n",
        "            else\n",
        "              cout << 0 << endl;\n",
        "        }\n",
        "        instancia++;\n",
        "        cout << endl;\n",
        "     \n",
        "        cin >> n >> m;\n",
        "    }\n",
        " \n",
        "    return 0;\n",
        "}"
      ]
    },
    {
      "cell_type": "code",
      "source": [
        "g++ floyd_warshall.cpp -o floyd_warshall"
      ],
      "metadata": {
        "id": "fOvPcyiDMaSF"
      },
      "execution_count": null,
      "outputs": []
    },
    {
      "cell_type": "code",
      "source": [
        "%%script bash\n",
        "echo -e \"12 17\\n1 4 4\\n4 7 6\\n7 10 6\\n2 5 4\\n5 8 5\\n8 11 2\\n3 6 5\\n6 9 3\\n9 12 1\\n1 2 1\\n2 3 9\\n4 5 3\\n5 6 7\\n7 8 7\\n8 9 2\\n10 11 1\\n11 12 2\\n4\\n1 5\\n6 8\\n6 7\\n11 10\\n0 0\\n\" > 01.in\n",
        "./floyd_warshall < 01.in"
      ],
      "metadata": {
        "id": "ys-Me0liMZ29"
      },
      "execution_count": null,
      "outputs": []
    }
  ]
}