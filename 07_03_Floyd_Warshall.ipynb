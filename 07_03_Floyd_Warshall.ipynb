{
  "nbformat": 4,
  "nbformat_minor": 0,
  "metadata": {
    "colab": {
      "provenance": [],
      "include_colab_link": true
    },
    "kernelspec": {
      "name": "python3",
      "display_name": "Python 3"
    },
    "language_info": {
      "name": "python"
    }
  },
  "cells": [
    {
      "cell_type": "markdown",
      "metadata": {
        "id": "view-in-github",
        "colab_type": "text"
      },
      "source": [
        "<a href=\"https://colab.research.google.com/github/OsvaldoUfla/GCC218-beecrowd-2372-Reuniao/blob/main/07_03_Floyd_Warshall.ipynb\" target=\"_parent\"><img src=\"https://colab.research.google.com/assets/colab-badge.svg\" alt=\"Open In Colab\"/></a>"
      ]
    },
    {
      "cell_type": "markdown",
      "source": [
        "# Algoritmo de Floyd-Warshall"
      ],
      "metadata": {
        "id": "75URCEO9Pwcn"
      }
    },
    {
      "cell_type": "markdown",
      "source": [
        "## Motivação\n",
        "\n",
        "[beecrowd | 1454 - O País das Bicicletas](https://www.beecrowd.com.br/judge/pt/problems/view/1454)\n",
        "\n",
        "Como você já deve saber, a bicicleta é um dos meios de transportes mais populares da China. Quase todos os chineses possuem a sua, e utilizam-na para trabalho, recreação, e outras atividades.\n",
        "\n",
        "Após muitos anos pedalando, Mr. Lee já não têm a mesma disposição para encarar as diversas subidas da cidade onde mora. E a cidade em que Mr. Lee vive é extremamente montanhosa. Por razões sentimentais, ele não quer mudar para uma cidade mais plana. Resolveu, então, que tentaria evitar grandes altitudes em seus caminhos mesmo que, para isso, tivesse que pedalar um pouco mais.\n",
        "\n",
        "Mr. Lee obteve com o serviço topográfico chinês uma coleção de mapas de sua cidade, em que cada rua desses mapas possui a informação da maior altitude encontrada quando trafegada. Tudo que ele precisa fazer agora é determinar rotas que minimizem a altura percorrida entre pares (origem, destino).\n",
        "\n",
        "Sabendo que você planeja visitar a cidade em que ele mora no próximo ano, Mr. Lee pediu sua ajuda. Em uma primeira etapa, ele deseja que você implemente um programa que receba mapas topográficos da cidade e uma coleção de pares (origem, destino). Para cada par, seu programa deve imprimir a maior altura encontrada em uma rota entre a origem e o destino. Lembre-se que as rotas devem minimizar tais alturas. As rotas propriamente ditas, serão determinadas em uma segunda etapa (quando você chegar à China para visitá-lo).\n",
        "\n",
        "Como o transporte utilizado é uma bicicleta, você pode considerar que todas as ruas da cidade são de mão dupla. Não demore, pois Mr. Lee conta com você. :-)\n",
        "\n"
      ],
      "metadata": {
        "id": "9eixQdEUSNk-"
      }
    },
    {
      "cell_type": "markdown",
      "source": [
        "### Entrada\n",
        "Seu programa deve estar preparado para trabalhar com diversos mapas, doravante denominados instâncias. Cada instância tem a estrutura que segue.\n",
        "\n",
        "Na primeira linha são fornecidos dois inteiros $n$ ($0 \\le n​ \\le 100$) e $m$ ($0 \\le m \\le 4950$) que representam, respectivamente, os números de interseções e de ruas. Por razões de clareza, as interseções são numeradas de $1$ a $n$, inclusive; toda rua começa e termina em uma interseção; e não existem interseções fora das extremidades de uma rua.\n",
        "\n",
        "Nas próximas m linhas são fornecidos três inteiros: $i$ e $j$ ($1 \\le i, j \\le n$) que indicam a existência de uma rua entre as interseções $i$ e $j$; e $h$ que representa a maior altitude encontrada quando a rua é trafegada. Esses inteiros estão separados por espaços em branco.\n",
        "\n",
        "Na linha seguinte, é dado um inteiro $k$ ($1 \\le k \\le 50$) que representa o número de pares (origem, destino) que serão especificados nas próximas $k$ linhas. Cada par é formado por dois inteiros $i$ e $j$ como acima. Isto é, origem e destino são interseções de ruas, e também estão separados por espaços em branco.\n",
        "\n",
        "Valores $n = m = 0$ indicam o final das instâncias e não devem ser processados.\n"
      ],
      "metadata": {
        "id": "xqL081MXSwQa"
      }
    },
    {
      "cell_type": "markdown",
      "source": [
        "### Saída\n",
        "Para cada instância solucionada, você deverá imprimir um identificador Instancia $h$ em que $h$ é um número inteiro, sequencial e crescente a partir de $1$. Nas próximas $k$ linhas, você deve imprimir as maiores alturas encontradas nas rotas entre os $k$ pares (origem, destino) fornecidos, um valor por linha, na ordem da entrada.\n",
        "\n",
        "Uma linha em branco deve ser impressa após cada instância."
      ],
      "metadata": {
        "id": "-o3F4bMUTFly"
      }
    },
    {
      "cell_type": "markdown",
      "source": [
        "![image.png](data:image/png;base64,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)"
      ],
      "metadata": {
        "id": "VhhF2OnpTLvD"
      }
    },
    {
      "cell_type": "markdown",
      "source": [
        "## Implementação\n",
        "\n",
        "A resolução do  [beecrowd | 1454](https://www.beecrowd.com.br/judge/pt/problems/view/1454) se dá a partir do Algoritmo de Floyd-Warshall. Pode-se modelar o grafo do problema como cada vértice representando as intersecções das ruas, e a altura das ruas como o peso das arestas que ligam as intersecções. \n",
        "\n",
        "O número de vértices testados é no máximo $100$. Assim, a utilização do Algoritmo de Floyd-Warshall é apropriada. A solução do problema utiliza a estratégia *minmax*, que consiste em minimizar a altura percorrida no trajeto de *origem* e *destino*, considerando no cálculo a maior altura entre a *origem* a um vértice intermediário, e de tal vértice intermediário ao vértice *destino*.\n",
        "\n",
        "Mais detalhes sobre o Algoritmo de Floyd-Warshall pode ser visto em [slides](https://drive.google.com/file/d/14hYmR9pJVyekEbnyHy0ePVyN4AoU0VVH/view?usp=sharing) e em [vídeo-aula](https://www.loom.com/share/4364350dce7546f7a4cfc4089de67472).\n"
      ],
      "metadata": {
        "id": "I1lTAfyqP1us"
      }
    },
    {
      "cell_type": "code",
      "source": [
        "%%writefile floyd_warshall.cpp\n",
        "#include<iostream>\n",
        "#include<vector>\n",
        "#include<utility>\n",
        "#include<functional>\n",
        "using namespace std;\n",
        "\n",
        "#define INF 1000000000\n",
        "\n",
        "/*\n",
        " * Variaveis globais\n",
        " */\n",
        "\n",
        "// matriz de adjacencia\n",
        "int** MA;\n",
        "\n",
        "// quantidade de vertices\n",
        "int n;\n",
        "\n",
        "// quantidade de arestas\n",
        "int m;\n",
        "\n",
        "// quantidade de pares origem-destino a ser calculado\n",
        "int k;\n",
        "\n",
        "void floyd_warshall()\n",
        "{\n",
        "    for(int k = 0; k < n; k++)\n",
        "      for(int i = 0; i < n; i++)\n",
        "        for(int j = 0; j < n; j++)\n",
        "          /*\n",
        "           * Adaptacao: originalmente, o calculo eh MA[i][j] = min(MA[i][j], MA[i][k] + MA[k][j]);\n",
        "           */\n",
        "          MA[i][j] = min(MA[i][j], max(MA[i][k], MA[k][j]));\n",
        "}\n",
        "\n",
        "int main()\n",
        "{\n",
        "    int instancia = 1;\n",
        "    cin >> n >> m;\n",
        "    while(n != 0 && m != 0)\n",
        "    {     \n",
        "        MA = new int*[n];\n",
        "        int u, v, h;\n",
        "     \n",
        "        for(int i = 0; i < n; i++)\n",
        "        {\n",
        "            MA[i] = new int[n];\n",
        "            for(int j = 0; j < n; j++)\n",
        "                MA[i][j] = INF;\n",
        "        }\n",
        "\n",
        "        for(int i = 0; i < m; i++)\n",
        "        {\n",
        "            cin >> u >> v >> h;\n",
        "            u--;\n",
        "            v--;\n",
        "            MA[u][v] = MA[v][u] = h;\n",
        "        }\n",
        "     \n",
        "        floyd_warshall();\n",
        "     \n",
        "        int org, dst, k;\n",
        "        cin >> k;\n",
        "        cout << \"Instancia \" << instancia << endl;\n",
        "        for(int i = 0; i < k; i++)\n",
        "        {\n",
        "            cin >> org >> dst;\n",
        "            org--;\n",
        "            dst--;\n",
        "            if(org != dst)\n",
        "              cout << MA[org][dst] << endl;\n",
        "         \n",
        "            else\n",
        "              cout << 0 << endl;\n",
        "        }\n",
        "        instancia++;\n",
        "        cout << endl;\n",
        "     \n",
        "        cin >> n >> m;\n",
        "    }\n",
        " \n",
        "    return 0;\n",
        "}"
      ],
      "metadata": {
        "id": "ugxPCQbQUfFH",
        "colab": {
          "base_uri": "https://localhost:8080/"
        },
        "outputId": "c48d001b-b88b-4fb6-ee69-4033cc5b2bb6"
      },
      "execution_count": 8,
      "outputs": [
        {
          "output_type": "stream",
          "name": "stdout",
          "text": [
            "Overwriting floyd_warshall.cpp\n"
          ]
        }
      ]
    },
    {
      "cell_type": "markdown",
      "source": [
        "*Compilando o código*"
      ],
      "metadata": {
        "id": "8SVNR0UF-IRR"
      }
    },
    {
      "cell_type": "code",
      "source": [
        "%%script bash\n",
        "g++ floyd_warshall.cpp -o floyd_warshall"
      ],
      "metadata": {
        "id": "vRs-iYaE-I1e"
      },
      "execution_count": 9,
      "outputs": []
    },
    {
      "cell_type": "markdown",
      "source": [
        "*Executando o código*"
      ],
      "metadata": {
        "id": "D5RYzPVg-PnC"
      }
    },
    {
      "cell_type": "code",
      "source": [
        "%%script bash\n",
        "echo -e \"12 17\\n1 4 4\\n4 7 6\\n7 10 6\\n2 5 4\\n5 8 5\\n8 11 2\\n3 6 5\\n6 9 3\\n9 12 1\\n1 2 1\\n2 3 9\\n4 5 3\\n5 6 7\\n7 8 7\\n8 9 2\\n10 11 1\\n11 12 2\\n4\\n1 5\\n6 8\\n6 7\\n11 10\\n0 0\\n\" > 01.in\n",
        "./floyd_warshall < 01.in"
      ],
      "metadata": {
        "colab": {
          "base_uri": "https://localhost:8080/"
        },
        "id": "TjGUK4fg-R5J",
        "outputId": "05c9637f-7900-4b35-94c5-8918e1b7d43e"
      },
      "execution_count": 10,
      "outputs": [
        {
          "output_type": "stream",
          "name": "stdout",
          "text": [
            "Instancia 1\n",
            "4\n",
            "3\n",
            "6\n",
            "1\n",
            "\n"
          ]
        }
      ]
    },
    {
      "cell_type": "markdown",
      "source": [
        "### Complexidade\n",
        "\n",
        "Dado um grafo ponderado $G=(V,E)$, $|V|=n$ e $|E|=m$, a complexidade da nossa implementação se resume em:  \n",
        "\n",
        "* 3 *loops* de $n$ repetições: a linha *MA[i][j] = min(MA[i][j], max(MA[i][k], MA[k][j]))* possui complexidade de $O(1)$.\n",
        "\n",
        "Logo, o Algoritmo de Floyd-Warshall terá $O(n^3)$ operações."
      ],
      "metadata": {
        "id": "XRhljcYo-WpI"
      }
    }
  ]
}